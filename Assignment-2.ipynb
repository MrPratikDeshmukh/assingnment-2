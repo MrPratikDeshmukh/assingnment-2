{
 "cells": [
  {
   "cell_type": "markdown",
   "id": "cdd4cdb9-6235-4bb9-88dc-0954a55bc01f",
   "metadata": {},
   "source": [
    "Q1. How do you comment code in Python? What are the different types of comments?\n",
    "Q2. What are variables in Python? How do you declare and assign values to variables?\n",
    "Q3. How do you convert one data type to another in Python?\n",
    "Q4. How do you write and execute a Python script from the command line?\n",
    "Q5. Given a list my_list = [1, 2, 3, 4, 5], write the code to slice the list and obtain the sub-list [2, 3].\n",
    "Q6. What is a complex number in mathematics, and how is it represented in Python?\n",
    "Q7. What is the correct way to declare a variable named age and assign the value 25 to it?\n",
    "Q8. Declare a variable named price and assign the value 9.99 to it. What data type does this variable\n",
    "belong to?\n",
    "Q9. Create a variable named name and assign your full name to it as a string. How would you print the\n",
    "value of this variable?\n",
    "Q10. Given the string \"Hello, World!\", extract the substring \"World\".\n",
    "Q11. Create a variable named \"is_student\" and assign it a boolean value indicating whether you are\n",
    "currently a student or not."
   ]
  },
  {
   "cell_type": "markdown",
   "id": "6e911352-26f2-44cf-8135-2f19f7edcbd0",
   "metadata": {},
   "source": [
    "Q1. How do you comment code in Python? What are the different types of comments?\n",
    "\n",
    "There are 2 types of comments are as follows \n",
    "    1.Single line comment (use '#' symbol)\n",
    "        for eg \n",
    "            x=110 #assiging 110 to variable x\n",
    "    2.Multiline comment (use tripple quotes \"\"\" or ''' )\n",
    "        for eg\n",
    "            \"\"\" i am pratik , i have started to learn data science master class with pwskills,\n",
    "                i like the way of teaching & doubt clearing by pwskills \"\"\""
   ]
  },
  {
   "cell_type": "markdown",
   "id": "f6abdef8-a65d-4014-aa05-919349d9e9d8",
   "metadata": {},
   "source": [
    "Q2. What are variables in Python? How do you declare and assign values to variables?\n",
    "\n",
    "Variables are used to store the data.\n",
    "        for eg x=110 \n",
    "Here we declered the variable name x and assingng value 110 to it."
   ]
  },
  {
   "cell_type": "code",
   "execution_count": 102,
   "id": "a2d7b0fc-7910-4430-b9cf-36e69c8d97f5",
   "metadata": {},
   "outputs": [],
   "source": [
    "#Q3. How do you convert one data type to another in Python?\n",
    "\n",
    "x='110' \n",
    "y=1 "
   ]
  },
  {
   "cell_type": "code",
   "execution_count": 105,
   "id": "4d1296eb-520c-4825-a9fd-52204fb5144e",
   "metadata": {},
   "outputs": [
    {
     "data": {
      "text/plain": [
       "int"
      ]
     },
     "execution_count": 105,
     "metadata": {},
     "output_type": "execute_result"
    }
   ],
   "source": [
    "type(int(x))"
   ]
  },
  {
   "cell_type": "code",
   "execution_count": 107,
   "id": "166ed452-98da-4709-8804-96210d08ce91",
   "metadata": {},
   "outputs": [
    {
     "name": "stdout",
     "output_type": "stream",
     "text": [
      "110\n"
     ]
    }
   ],
   "source": [
    "print(x)"
   ]
  },
  {
   "cell_type": "code",
   "execution_count": 106,
   "id": "882b0179-f822-45bd-adaa-c2b7a1a50979",
   "metadata": {},
   "outputs": [
    {
     "data": {
      "text/plain": [
       "str"
      ]
     },
     "execution_count": 106,
     "metadata": {},
     "output_type": "execute_result"
    }
   ],
   "source": [
    "type(str(y))"
   ]
  },
  {
   "cell_type": "code",
   "execution_count": 108,
   "id": "35d24222-e9a6-42b8-9461-ec284074180c",
   "metadata": {},
   "outputs": [
    {
     "name": "stdout",
     "output_type": "stream",
     "text": [
      "1\n"
     ]
    }
   ],
   "source": [
    "print(y)"
   ]
  },
  {
   "cell_type": "code",
   "execution_count": 115,
   "id": "a8304e25-8874-4025-86d8-51181fbf893e",
   "metadata": {},
   "outputs": [],
   "source": [
    "#Q4. How do you write and execute a Python script from the command line?\n",
    "#Using run button on screen & we can use 'Shift/Control + Enter' button on keyboard\n",
    "a = 11    \n",
    "b = 92"
   ]
  },
  {
   "cell_type": "code",
   "execution_count": 120,
   "id": "a9792827-c4c0-4663-b30d-e35296da1526",
   "metadata": {},
   "outputs": [
    {
     "data": {
      "text/plain": [
       "103"
      ]
     },
     "execution_count": 120,
     "metadata": {},
     "output_type": "execute_result"
    }
   ],
   "source": [
    "a + b "
   ]
  },
  {
   "cell_type": "markdown",
   "id": "8f7b1ede-f7cd-4a7d-809f-263ffde51a5a",
   "metadata": {},
   "source": [
    "Q5. Given a list my_list = [1, 2, 3, 4, 5], write the code to slice the list and obtain the sub-list [2, 3]."
   ]
  },
  {
   "cell_type": "code",
   "execution_count": 121,
   "id": "ca61522f-c40e-4bba-bf79-e408ad67d10e",
   "metadata": {},
   "outputs": [],
   "source": [
    "my_list = [1,2,3,4,5]"
   ]
  },
  {
   "cell_type": "code",
   "execution_count": 127,
   "id": "4f067073-af21-416e-8400-ca308478af9a",
   "metadata": {},
   "outputs": [
    {
     "name": "stdout",
     "output_type": "stream",
     "text": [
      "[2, 3]\n"
     ]
    }
   ],
   "source": [
    "sub_list=my_list[1:3]\n",
    "print(sub_list)"
   ]
  },
  {
   "cell_type": "markdown",
   "id": "49d8da40-a074-472f-8d77-60ead6a18e26",
   "metadata": {},
   "source": [
    "Q6. What is a complex number in mathematics, and how is it represented in Python?\n",
    "\n",
    "in maths Complex number contains real and imaginary number\n",
    "\n",
    "in python coplex numbers are represented as a complex \n",
    "\n",
    "for imaginary number should be use j or J after number \n",
    "    for eg  x = 5 + 6j"
   ]
  },
  {
   "cell_type": "code",
   "execution_count": 128,
   "id": "89584527-ec31-470a-921b-62c206cb226a",
   "metadata": {},
   "outputs": [],
   "source": [
    "#Q7. What is the correct way to declare a variable named age and assign the value 25 to it?\n",
    "\n",
    "age = 25"
   ]
  },
  {
   "cell_type": "code",
   "execution_count": 130,
   "id": "90b40a2b-f5e2-44cd-9015-f4a5fc33f4d1",
   "metadata": {},
   "outputs": [
    {
     "name": "stdout",
     "output_type": "stream",
     "text": [
      "25\n"
     ]
    }
   ],
   "source": [
    "print(age)"
   ]
  },
  {
   "cell_type": "code",
   "execution_count": 131,
   "id": "f88d3a50-0414-4b42-ab5b-0bac4cf19dfb",
   "metadata": {},
   "outputs": [],
   "source": [
    "#Q8. Declare a variable named price and assign the value 9.99 to it. What data type does this variable belong to?\n",
    "\n",
    "price = 9.99"
   ]
  },
  {
   "cell_type": "code",
   "execution_count": 132,
   "id": "636933bb-f4da-44ae-ae39-4bfab3e5d7cf",
   "metadata": {},
   "outputs": [
    {
     "data": {
      "text/plain": [
       "float"
      ]
     },
     "execution_count": 132,
     "metadata": {},
     "output_type": "execute_result"
    }
   ],
   "source": [
    "type(price)"
   ]
  },
  {
   "cell_type": "code",
   "execution_count": 134,
   "id": "a79580b6-4bda-42a0-9738-4de75e1c4ff3",
   "metadata": {},
   "outputs": [
    {
     "name": "stdout",
     "output_type": "stream",
     "text": [
      " Pratik Somnath Deshmukh \n"
     ]
    }
   ],
   "source": [
    "#Q9. Create a variable named name and assign your full name to it as a string. How would you print the value of this variable?\n",
    "\n",
    "name = \" Pratik Somnath Deshmukh \"\n",
    "print(name)"
   ]
  },
  {
   "cell_type": "code",
   "execution_count": 142,
   "id": "3c6a7d6a-d1c1-40a1-96b9-d442fcc89bc8",
   "metadata": {},
   "outputs": [
    {
     "name": "stdout",
     "output_type": "stream",
     "text": [
      "World\n"
     ]
    }
   ],
   "source": [
    "#Q10. Given the string \"Hello, World!\", extract the substring \"World\".\n",
    "\n",
    "str1 = \"Hello, World!\"\n",
    "substr = str1[7:12]\n",
    "print(substr)"
   ]
  },
  {
   "cell_type": "code",
   "execution_count": 146,
   "id": "28278b39-8a67-4175-9965-5e39ec91a475",
   "metadata": {},
   "outputs": [],
   "source": [
    "#Q11. Create a variable named \"is_student\" and assign it a boolean value indicating whether you are currently a student or not.\n",
    "\n",
    "is_student = False "
   ]
  },
  {
   "cell_type": "code",
   "execution_count": 147,
   "id": "0933bc45-ccfe-4adf-aaf4-54c02c7366b3",
   "metadata": {},
   "outputs": [
    {
     "data": {
      "text/plain": [
       "bool"
      ]
     },
     "execution_count": 147,
     "metadata": {},
     "output_type": "execute_result"
    }
   ],
   "source": [
    "type(is_student)"
   ]
  },
  {
   "cell_type": "code",
   "execution_count": null,
   "id": "abdeceab-8619-4729-9b12-8f258ae9dcf9",
   "metadata": {},
   "outputs": [],
   "source": []
  }
 ],
 "metadata": {
  "kernelspec": {
   "display_name": "Python 3 (ipykernel)",
   "language": "python",
   "name": "python3"
  },
  "language_info": {
   "codemirror_mode": {
    "name": "ipython",
    "version": 3
   },
   "file_extension": ".py",
   "mimetype": "text/x-python",
   "name": "python",
   "nbconvert_exporter": "python",
   "pygments_lexer": "ipython3",
   "version": "3.10.8"
  }
 },
 "nbformat": 4,
 "nbformat_minor": 5
}
